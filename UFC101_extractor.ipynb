{
  "nbformat": 4,
  "nbformat_minor": 0,
  "metadata": {
    "colab": {
      "name": "UFC101_extractor.ipynb",
      "version": "0.3.2",
      "provenance": [],
      "collapsed_sections": []
    },
    "kernelspec": {
      "name": "python3",
      "display_name": "Python 3"
    }
  },
  "cells": [
    {
      "metadata": {
        "id": "_abBP5iOGBwX",
        "colab_type": "code",
        "outputId": "21f91810-553c-4895-92c8-d605a8f7eb69",
        "colab": {
          "base_uri": "https://localhost:8080/",
          "height": 486
        }
      },
      "cell_type": "code",
      "source": [
        "\"\"\" To use Google Drive with Colab, \n",
        "1. set use_google_drive to True, and\n",
        "2. specify a directory in Google Drive (Modify as in your Google Drive)\n",
        "(You will need to authorize manually.)\n",
        "\"\"\"\n",
        "use_google_drive = True\n",
        "workdir = '/content/drive/My Drive/Colab/UCF101_extractor'\n",
        "\n",
        "\n",
        "import os\n",
        "\n",
        "try:\n",
        "    if use_google_drive:\n",
        "        from google.colab import drive\n",
        "        drive.mount('/content/drive')\n",
        "        # Create target directory & all intermediate directories if don't exists\n",
        "        if not os.path.exists(workdir):\n",
        "            os.makedirs(workdir)\n",
        "            print('## Directory: ' , workdir ,  ' was created.') \n",
        "        os.chdir(workdir)\n",
        "        print('## Current working directory: ', os.getcwd())\n",
        "except:\n",
        "    print('Run the code without using Google Drive.')\n",
        "        \n",
        "try:    \n",
        "    print('## Check the uptime. (Google Colab reboots every 12 hours)')\n",
        "    !cat /proc/uptime | awk '{print \"Uptime is \" $1 /60 /60 \" hours (\" $1 \" sec)\"}'\n",
        "    print('## Check the GPU info')\n",
        "    !nvidia-smi\n",
        "    print('## Check the OS') \n",
        "    !cat /etc/issue\n",
        "    print('## Check the Python version') \n",
        "    !python --version\n",
        "    print('## Check the memory')\n",
        "    !free -h\n",
        "    print('## Check the disk')\n",
        "    !df -h\n",
        "except:\n",
        "    print('Run the code assuming the environment is not Google Colab.')"
      ],
      "execution_count": 1,
      "outputs": [
        {
          "output_type": "stream",
          "text": [
            "Drive already mounted at /content/drive; to attempt to forcibly remount, call drive.mount(\"/content/drive\", force_remount=True).\n",
            "## Current working directory:  /content/drive/My Drive/Colab/UCF101_extractor\n",
            "## Check the uptime. (Google Colab reboots every 12 hours)\n",
            "Uptime is 0.101733 hours (366.24 sec)\n",
            "## Check the GPU info\n",
            "NVIDIA-SMI has failed because it couldn't communicate with the NVIDIA driver. Make sure that the latest NVIDIA driver is installed and running.\n",
            "\n",
            "## Check the OS\n",
            "Ubuntu 18.04.2 LTS \\n \\l\n",
            "\n",
            "## Check the Python version\n",
            "Python 3.6.7\n",
            "## Check the memory\n",
            "              total        used        free      shared  buff/cache   available\n",
            "Mem:            12G        448M         10G        868K        1.9G         12G\n",
            "Swap:            0B          0B          0B\n",
            "## Check the disk\n",
            "Filesystem      Size  Used Avail Use% Mounted on\n",
            "overlay          49G   21G   26G  45% /\n",
            "tmpfs           6.4G     0  6.4G   0% /dev\n",
            "tmpfs           6.4G     0  6.4G   0% /sys/fs/cgroup\n",
            "tmpfs           6.4G  8.0K  6.4G   1% /var/colab\n",
            "/dev/sda1        55G   22G   34G  40% /etc/hosts\n",
            "shm             6.0G     0  6.0G   0% /dev/shm\n",
            "tmpfs           6.4G     0  6.4G   0% /sys/firmware\n",
            "drive            49G   23G   27G  45% /content/drive\n"
          ],
          "name": "stdout"
        }
      ]
    },
    {
      "metadata": {
        "id": "guptllXGGy0N",
        "colab_type": "code",
        "outputId": "a825d995-1932-4e22-d6b6-22510ffc4751",
        "colab": {
          "base_uri": "https://localhost:8080/",
          "height": 51
        }
      },
      "cell_type": "code",
      "source": [
        "import numpy as np\n",
        "from pathlib import Path \n",
        "import cv2\n",
        "import traceback\n",
        "\n",
        "\n",
        "top_dir = r'./UCF-101'\n",
        "f_interval = 5 #25\n",
        "resize256 = True\n",
        "\n",
        "\n",
        "\n",
        "top_dir_path = Path(top_dir)\n",
        "\n",
        "if resize256:\n",
        "    w_top_dir = top_dir + '_frames' + '256'\n",
        "else:\n",
        "    w_top_dir = top_dir + '_frames' \n",
        "    \n",
        "w_top_dir_path = Path(w_top_dir)\n",
        "print('Top directory to write:', w_top_dir_path)\n",
        "\n",
        "label_dir_paths = list(top_dir_path.glob('*'))\n",
        "#label_dir = label_dirs[0]\n",
        "for label_index, label_dir_path in enumerate(label_dir_paths):\n",
        "    print('Label: {} | Directory: {}'.format(label_index, label_dir_path))\n",
        "    w_label_dir_path = w_top_dir_path / label_dir_path.stem\n",
        "    \n",
        "    for video_file_path in list(label_dir_path.glob('*')):\n",
        "        #print(video_file_path)\n",
        "        try:\n",
        "            cap = cv2.VideoCapture(video_file_path.as_posix())\n",
        "            #width = int(cap.get(cv2.CAP_PROP_FRAME_WIDTH))\n",
        "            #height = int(cap.get(cv2.CAP_PROP_FRAME_HEIGHT))\n",
        "            count = int(cap.get(cv2.CAP_PROP_FRAME_COUNT))\n",
        "            #fps = cap.get(cv2.CAP_PROP_FPS)\n",
        "            #print(\"width:{}, height:{}, count:{}, fps:{}\".format(width,height,count,fps))\n",
        "\n",
        "            w_video_dir_path = w_label_dir_path / video_file_path.stem\n",
        "\n",
        "            #print('Video Directory Path to Write:', w_video_dir_path)\n",
        "            num_triplets = (count // f_interval) // 3\n",
        "            #print('Number of Triplets:', num_triplets)\n",
        "            pos_last = num_triplets * 3 * f_interval\n",
        "\n",
        "            for i in np.arange(0, pos_last, f_interval):\n",
        "                cap.set(cv2.CAP_PROP_POS_FRAMES, i)\n",
        "                frame_valid, frame = cap.read()\n",
        "                if not frame_valid:\n",
        "                    print('Invalid frame from: {}'.format(video_file_path))\n",
        "                    break\n",
        "                if resize256:\n",
        "                    frame = cv2.resize(frame, (256, 256))\n",
        "\n",
        "                #triplet_id = 3 * f_interval * ((i // f_interval) // 3)\n",
        "                #triplet_index = (i // f_interval) % 3            \n",
        "                #w_image_file_path = w_video_dir_path / 'f_{:04d}/frame_{}.png'.format(triplet_id, triplet_index+1)\n",
        "                w_image_file_path = w_video_dir_path / 'frame_{:04d}.png'.format(i)         \n",
        "\n",
        "                w_image_file_path.parent.mkdir(parents=True, exist_ok=True)\n",
        "                #print('file: ', w_image_file_path)\n",
        "                cv2.imwrite(w_image_file_path.as_posix(), frame)\n",
        "        except KeyboardInterrupt:\n",
        "            break\n",
        "        except:\n",
        "            print('### An exception occurred during processing:',video_file_path)\n",
        "            print(traceback.format_exc())\n",
        "            print('### Continue running.') \n",
        "print('### End of code.')"
      ],
      "execution_count": 0,
      "outputs": [
        {
          "output_type": "stream",
          "text": [
            "Top directory to write: UCF-101_frames256\n",
            "Label: 0 | Directory: UCF-101/Archery\n"
          ],
          "name": "stdout"
        }
      ]
    },
    {
      "metadata": {
        "id": "QmUS8TWlHniO",
        "colab_type": "code",
        "colab": {}
      },
      "cell_type": "code",
      "source": [
        ""
      ],
      "execution_count": 0,
      "outputs": []
    }
  ]
}