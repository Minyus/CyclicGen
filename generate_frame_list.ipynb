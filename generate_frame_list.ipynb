{
  "nbformat": 4,
  "nbformat_minor": 0,
  "metadata": {
    "colab": {
      "name": "generate_frame_list.ipynb",
      "version": "0.3.2",
      "provenance": [],
      "collapsed_sections": []
    },
    "kernelspec": {
      "name": "python3",
      "display_name": "Python 3"
    }
  },
  "cells": [
    {
      "metadata": {
        "id": "-B-gS4Zuunkq",
        "colab_type": "code",
        "colab": {
          "base_uri": "https://localhost:8080/",
          "height": 115
        },
        "outputId": "3748b91a-23c2-4c84-9d9c-2908bb4e46aa"
      },
      "cell_type": "code",
      "source": [
        "\"\"\" To use Google Drive with Colab, \n",
        "1. set use_google_drive to True, and\n",
        "2. specify a directory in Google Drive (Modify as in your Google Drive)\n",
        "(You will need to authorize manually.)\n",
        "\"\"\"\n",
        "use_google_drive = True\n",
        "workdir = '/content/drive/My Drive/Colab/UCF101_extractor'\n",
        "\n",
        "\n",
        "import os\n",
        "\n",
        "try:\n",
        "    if use_google_drive:\n",
        "        from google.colab import drive\n",
        "        drive.mount('/content/drive')\n",
        "        # Create target directory & all intermediate directories if don't exists\n",
        "        if not os.path.exists(workdir):\n",
        "            os.makedirs(workdir)\n",
        "            print('## Directory: ' , workdir ,  ' was created.') \n",
        "        os.chdir(workdir)\n",
        "        print('## Current working directory: ', os.getcwd())\n",
        "except:\n",
        "    print('Run the code without using Google Drive.')\n",
        "        \n",
        "try:    \n",
        "    print('## Check the uptime. (Google Colab reboots every 12 hours)')\n",
        "    !cat /proc/uptime | awk '{print \"Uptime is \" $1 /60 /60 \" hours (\" $1 \" sec)\"}'\n",
        "    print('## Check the GPU info')\n",
        "    !nvidia-smi\n",
        "    print('## Check the OS') \n",
        "    !cat /etc/issue\n",
        "    print('## Check the Python version') \n",
        "    !python --version\n",
        "    print('## Check the memory')\n",
        "    !free -h\n",
        "    print('## Check the disk')\n",
        "    !df -h\n",
        "except:\n",
        "    print('Run the code assuming the environment is not Google Colab.')"
      ],
      "execution_count": 0,
      "outputs": [
        {
          "output_type": "stream",
          "text": [
            "Drive already mounted at /content/drive; to attempt to forcibly remount, call drive.mount(\"/content/drive\", force_remount=True).\n",
            "## Current working directory:  /content/drive/My Drive/Colab/UCF101_extractor\n",
            "## Check the uptime. (Google Colab reboots every 12 hours)\n",
            "Uptime is 2.14899 hours (7736.37 sec)\n"
          ],
          "name": "stdout"
        }
      ]
    },
    {
      "metadata": {
        "id": "A8RksjPe1YQO",
        "colab_type": "code",
        "colab": {}
      },
      "cell_type": "code",
      "source": [
        "from pathlib import Path\n",
        "import random\n",
        "random.seed(0)\n",
        "\n",
        "def get_random_child(path):\n",
        "    return random.choice(list(path.glob('*')))\n",
        "\n",
        "def get_random_child_r(path):\n",
        "    child_path = get_random_child(path)\n",
        "    if child_path.is_dir():\n",
        "        return get_random_child_r(child_path)\n",
        "    else:\n",
        "        return child_path\n",
        "\n",
        "    \n",
        "f_interval = 5\n",
        "\n",
        "top_dir = r'./UCF-101'\n",
        "top_dir_path = Path(top_dir)\n",
        "\n",
        "w_top_dir = top_dir + '_frames'\n",
        "w_top_dir_path = Path(w_top_dir)\n",
        "\n",
        "\n",
        "f1_list_path = Path(r'data_list/ucf101_train_files_frame1.txt')\n",
        "f2_list_path = Path(r'data_list/ucf101_train_files_frame2.txt')\n",
        "f3_list_path = Path(r'data_list/ucf101_train_files_frame3.txt')\n",
        "t_list_path = [f1_list_path, f2_list_path, f3_list_path]\n",
        "f1_list_path.parent.mkdir(exist_ok=True)\n",
        "for f_list_path in t_list_path:\n",
        "    with f_list_path.open('w') as file:\n",
        "        pass\n",
        "\n",
        "num_iter = 276917\n",
        "\n",
        "for i in range(num_iter):\n",
        "    img_path = get_random_child_r(w_top_dir_path)\n",
        "    f_index = int(img_path.stem[-4:])\n",
        "    f1_index = (f_index//(3*f_interval))*3*f_interval \n",
        "    f2_index = f1_index + f_interval\n",
        "    f3_index = f2_index + f_interval\n",
        "    t_indices = [f1_index, f2_index, f3_index]\n",
        "    for f_list_path, f_index in zip(t_list_path, t_indices):\n",
        "        with f_list_path.open('a') as file:\n",
        "            file.write((img_path.parent / 'frame_{:04d}.png\\r\\n'.format(f1_index)).as_posix())\n",
        "    if i%10000==0:\n",
        "        print('Finished iteration: ', i)"
      ],
      "execution_count": 0,
      "outputs": []
    }
  ]
}